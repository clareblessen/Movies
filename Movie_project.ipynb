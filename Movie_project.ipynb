{
 "cells": [
  {
   "cell_type": "code",
   "execution_count": 1,
   "metadata": {},
   "outputs": [],
   "source": [
    "#instantiate cursor and load libraries\n",
    "import json\n",
    "import pandas as pd\n",
    "import requests\n",
    "import mysql.connector\n",
    "import config\n",
    "import time\n"
   ]
  },
  {
   "cell_type": "code",
   "execution_count": 2,
   "metadata": {},
   "outputs": [],
   "source": [
    "#specify database for connection\n",
    "db = mysql.connector.connect(\n",
    "    host = config.host,\n",
    "    user = config.user,\n",
    "    password = config.password,\n",
    "    database = \"Movies\")\n",
    "\n",
    "cursor = db.cursor()"
   ]
  },
  {
   "cell_type": "code",
   "execution_count": null,
   "metadata": {},
   "outputs": [],
   "source": []
  },
  {
   "cell_type": "code",
   "execution_count": 3,
   "metadata": {},
   "outputs": [],
   "source": [
    "#create database\n",
    "from mysql.connector import errorcode\n",
    "db_name = 'Movies'\n",
    "\n",
    "def create_database(cursor, database):\n",
    "    try:\n",
    "        cursor.execute(\n",
    "            \"CREATE DATABASE {} DEFAULT CHARACTER SET 'utf8'\".format(database))\n",
    "    except mysql.connector.Error as err:\n",
    "        print(\"Failed creating database: {}\".format(err))\n",
    "        exit(1)\n",
    "\n",
    "try:\n",
    "    cursor.execute(\"USE {}\".format(db_name))\n",
    "except mysql.connector.Error as err:\n",
    "    print(\"Database {} does not exists.\".format(db_name))\n",
    "    if err.errno == errorcode.ER_BAD_DB_ERROR:\n",
    "        create_database(cursor, db_name)\n",
    "        print(\"Database {} created successfully.\".format(db_name))\n",
    "        cnx.database = db_name\n",
    "    else:\n",
    "        print(err)\n",
    "        exit(1)"
   ]
  },
  {
   "cell_type": "code",
   "execution_count": 4,
   "metadata": {},
   "outputs": [],
   "source": [
    "import requests\n",
    "from bs4 import BeautifulSoup as BS"
   ]
  },
  {
   "cell_type": "code",
   "execution_count": 120,
   "metadata": {},
   "outputs": [],
   "source": [
    "#first page\n",
    "\n",
    "page1 = requests.get('https://www.imdb.com/search/title/?release_date=2019-01-01,2019-10-31&sort=boxoffice_gross_us,desc&start=251&ref_=adv_nxt')\n",
    "soup1 = BS(page1.content, 'html.parser')\n",
    "soup1.prettify()\n",
    "info1 = soup1.find_all(id = 'main')\n",
    "movie1 = info1[0].find_all(class_='lister-item mode-advanced')"
   ]
  },
  {
   "cell_type": "code",
   "execution_count": 121,
   "metadata": {},
   "outputs": [],
   "source": [
    "# insert_movies(make_df(movie1))"
   ]
  },
  {
   "cell_type": "code",
   "execution_count": 89,
   "metadata": {},
   "outputs": [],
   "source": [
    "def get_score(movie):\n",
    "        metascores = []\n",
    "        for score in movie:\n",
    "            metascore1 = score.find(class_=\"metascore\")\n",
    "            if metascore1 == None:\n",
    "                metascore = 'Null'\n",
    "                metascores.append(metascore)\n",
    "            else:\n",
    "                metascores.append(int(metascore1.get_text(strip=True)))\n",
    "        return metascores\n",
    "# len(get_score(movie))"
   ]
  },
  {
   "cell_type": "code",
   "execution_count": 61,
   "metadata": {},
   "outputs": [],
   "source": [
    "def find_fk(movie):\n",
    "    ids = []\n",
    "    for m in movie:\n",
    "        id = m.find (class_=\"starBarWidget\")['id']\n",
    "        ids.append(id)\n",
    "    return ids\n",
    "\n",
    "# find_fk(movie1)"
   ]
  },
  {
   "cell_type": "code",
   "execution_count": 8,
   "metadata": {},
   "outputs": [],
   "source": [
    "def get_titles(movie):\n",
    "\n",
    "    titles = []\n",
    "    for one in movie:\n",
    "        title = one.find('img')['alt']\n",
    "        titles.append(title) \n",
    "    return titles\n",
    "\n",
    "# len(get_titles(movie))"
   ]
  },
  {
   "cell_type": "code",
   "execution_count": 85,
   "metadata": {},
   "outputs": [],
   "source": [
    "def get_stars(movie):\n",
    "    stars = []\n",
    "    for one in movie:\n",
    "        try:\n",
    "            stars.append(float(one.find(class_='inline-block ratings-imdb-rating')['data-value']))\n",
    "        except:\n",
    "            stars.append('Null')\n",
    "#         stars.append(float(x['data-value']))\n",
    "    return stars\n",
    "\n",
    "# len(get_stars(movie))"
   ]
  },
  {
   "cell_type": "code",
   "execution_count": 118,
   "metadata": {},
   "outputs": [],
   "source": [
    "def get_year(movie):\n",
    "    \n",
    "    years = []\n",
    "    for one in movie:\n",
    "        try:\n",
    "            year = one.find(class_=\"lister-item-year text-muted unbold\").get_text()\n",
    "            parsed_year = year[-5:-1]\n",
    "            years.append(int(parsed_year))\n",
    "        except:\n",
    "            years.append(2019)\n",
    "    return years\n",
    "# get_year(movie1)"
   ]
  },
  {
   "cell_type": "code",
   "execution_count": 110,
   "metadata": {},
   "outputs": [],
   "source": [
    "def get_genre(movie):\n",
    "    genres = []\n",
    "    for m in movie:\n",
    "        genre = m.find(class_='genre')\n",
    "        try:\n",
    "            genre1 = str.split(genre.get_text(strip=True), sep = ',')[0]\n",
    "        except:\n",
    "            genre1 = genre\n",
    "        genres.append(genre1)\n",
    "    return genres\n",
    "# len(get_genre(movie1))"
   ]
  },
  {
   "cell_type": "code",
   "execution_count": 29,
   "metadata": {},
   "outputs": [],
   "source": [
    "def get_gross(movie):\n",
    "    gross_list = []\n",
    "    \n",
    "    for m in movie:\n",
    "        gross = m.find(class_='sort-num_votes-visible')\n",
    "        parsed_gross = gross.get_text(strip=True)\n",
    "        parsed_gross2 = str.split(parsed_gross, sep='|')\n",
    "       # print(parsed_gross2[1])\n",
    "        if 'Gross' in parsed_gross2[0]:\n",
    "            parsed_gross2 = parsed_gross2[0]\n",
    "#             print(parsed_gross2[0])\n",
    "            parsed_gross3 = str.split(parsed_gross2, sep=':')\n",
    "#             print(parsed_gross3)\n",
    "            parsed_gross4 = str.split(parsed_gross3[1], sep='.')[0]\n",
    "            final_gross = str.split(parsed_gross4, sep='$')[1]\n",
    "            gross_list.append(int(final_gross))\n",
    "#             print(parsed_gross2)\n",
    "        else:\n",
    "            try:       \n",
    "                parsed_gross3 = str.split(parsed_gross2[1], sep=':')\n",
    "                parsed_gross4 = str.split(parsed_gross3[1], sep='.')[0]\n",
    "                final_gross = str.split(parsed_gross4, sep='$')[1]\n",
    "                gross_list.append(int(final_gross))\n",
    "            except: \n",
    "                gross_list.append(0)\n",
    "    \n",
    "    return gross_list\n",
    "\n",
    "# len(get_gross(movie))"
   ]
  },
  {
   "cell_type": "code",
   "execution_count": 133,
   "metadata": {},
   "outputs": [
    {
     "data": {
      "text/plain": [
       "'Votes:22|Gross:$0.01M'"
      ]
     },
     "execution_count": 133,
     "metadata": {},
     "output_type": "execute_result"
    }
   ],
   "source": [
    "gross = movie1[0].find(class_='sort-num_votes-visible').get_text(strip=True)\n",
    "gross"
   ]
  },
  {
   "cell_type": "code",
   "execution_count": 44,
   "metadata": {},
   "outputs": [],
   "source": [
    "#create table\n",
    "DB_NAME = 'Movies'\n",
    "\n",
    "create_query = \"\"\"\n",
    "      CREATE TABLE imdb_movies\n",
    "    (\n",
    "      imdb_id varchar(24),\n",
    "      title varchar(50),\n",
    "      year INT(4),\n",
    "      star_rating FLOAT(3),\n",
    "      metascore INT(5),\n",
    "      gross INT(5),\n",
    "      genre varchar(30),\n",
    "      CONSTRAINT primary_key PRIMARY KEY(imdb_id)\n",
    "      )\n",
    "    \"\"\"\n",
    "cursor.execute(create_query)\n"
   ]
  },
  {
   "cell_type": "code",
   "execution_count": 28,
   "metadata": {},
   "outputs": [],
   "source": [
    "#make into DF\n",
    "def make_df(movie):\n",
    "    all_movies_dataframe = pd.DataFrame({\n",
    "        \"imdb_id\": find_fk(movie),\n",
    "        \"title\": get_titles(movie),\n",
    "        \"year\": get_year(movie),\n",
    "        \"star_rating\": get_stars(movie),\n",
    "        \"metascore\": get_score(movie),\n",
    "        \"gross\": get_gross(movie),\n",
    "        \"genre\": get_genre(movie)\n",
    "    })\n",
    "    return all_movies_dataframe\n"
   ]
  },
  {
   "cell_type": "code",
   "execution_count": 45,
   "metadata": {},
   "outputs": [],
   "source": [
    "#uses DF to insert into mySQL\n",
    "def insert_movies(dataframe):\n",
    "    all_movies_tuples = list(dataframe.itertuples(index=False, name=None))\n",
    "    insert_statement = \"\"\"INSERT INTO imdb_movies (imdb_id, title, year, star_rating, metascore, gross, genre) \n",
    "            VALUES (%s, %s, %s, %s, %s, %s, %s);\"\"\"\n",
    "    for movie in all_movies_tuples:\n",
    "        \n",
    "        cursor.execute(insert_statement, movie)\n",
    "        print(movie)\n",
    "    \n",
    "#     cursor.executemany(insert_statement, all_movies_tuples)\n",
    "    db.commit()\n"
   ]
  },
  {
   "cell_type": "code",
   "execution_count": 130,
   "metadata": {},
   "outputs": [
    {
     "ename": "AttributeError",
     "evalue": "'NoneType' object has no attribute 'get_text'",
     "output_type": "error",
     "traceback": [
      "\u001b[0;31m---------------------------------------------------------------------------\u001b[0m",
      "\u001b[0;31mAttributeError\u001b[0m                            Traceback (most recent call last)",
      "\u001b[0;32m<ipython-input-130-a3d1a2ce979a>\u001b[0m in \u001b[0;36m<module>\u001b[0;34m\u001b[0m\n\u001b[1;32m      6\u001b[0m     \u001b[0minfo\u001b[0m \u001b[0;34m=\u001b[0m \u001b[0msoup\u001b[0m\u001b[0;34m.\u001b[0m\u001b[0mfind_all\u001b[0m\u001b[0;34m(\u001b[0m\u001b[0mid\u001b[0m \u001b[0;34m=\u001b[0m \u001b[0;34m'main'\u001b[0m\u001b[0;34m)\u001b[0m\u001b[0;34m\u001b[0m\u001b[0;34m\u001b[0m\u001b[0m\n\u001b[1;32m      7\u001b[0m     \u001b[0mmovie\u001b[0m \u001b[0;34m=\u001b[0m \u001b[0minfo\u001b[0m\u001b[0;34m[\u001b[0m\u001b[0;36m0\u001b[0m\u001b[0;34m]\u001b[0m\u001b[0;34m.\u001b[0m\u001b[0mfind_all\u001b[0m\u001b[0;34m(\u001b[0m\u001b[0mclass_\u001b[0m\u001b[0;34m=\u001b[0m\u001b[0;34m'lister-item mode-advanced'\u001b[0m\u001b[0;34m)\u001b[0m\u001b[0;34m\u001b[0m\u001b[0;34m\u001b[0m\u001b[0m\n\u001b[0;32m----> 8\u001b[0;31m     \u001b[0mmovie_df\u001b[0m \u001b[0;34m=\u001b[0m \u001b[0mmake_df\u001b[0m\u001b[0;34m(\u001b[0m\u001b[0mmovie\u001b[0m\u001b[0;34m)\u001b[0m\u001b[0;34m\u001b[0m\u001b[0;34m\u001b[0m\u001b[0m\n\u001b[0m\u001b[1;32m      9\u001b[0m     \u001b[0minsert_movies\u001b[0m\u001b[0;34m(\u001b[0m\u001b[0mmovie_df\u001b[0m\u001b[0;34m)\u001b[0m\u001b[0;34m\u001b[0m\u001b[0;34m\u001b[0m\u001b[0m\n\u001b[1;32m     10\u001b[0m     \u001b[0;31m# #     print(movie_df)\u001b[0m\u001b[0;34m\u001b[0m\u001b[0;34m\u001b[0m\u001b[0;34m\u001b[0m\u001b[0m\n",
      "\u001b[0;32m<ipython-input-28-0a9e15e2e4bc>\u001b[0m in \u001b[0;36mmake_df\u001b[0;34m(movie)\u001b[0m\n\u001b[1;32m      7\u001b[0m         \u001b[0;34m\"star_rating\"\u001b[0m\u001b[0;34m:\u001b[0m \u001b[0mget_stars\u001b[0m\u001b[0;34m(\u001b[0m\u001b[0mmovie\u001b[0m\u001b[0;34m)\u001b[0m\u001b[0;34m,\u001b[0m\u001b[0;34m\u001b[0m\u001b[0;34m\u001b[0m\u001b[0m\n\u001b[1;32m      8\u001b[0m         \u001b[0;34m\"metascore\"\u001b[0m\u001b[0;34m:\u001b[0m \u001b[0mget_score\u001b[0m\u001b[0;34m(\u001b[0m\u001b[0mmovie\u001b[0m\u001b[0;34m)\u001b[0m\u001b[0;34m,\u001b[0m\u001b[0;34m\u001b[0m\u001b[0;34m\u001b[0m\u001b[0m\n\u001b[0;32m----> 9\u001b[0;31m         \u001b[0;34m\"gross(in millions)\"\u001b[0m\u001b[0;34m:\u001b[0m \u001b[0mget_gross\u001b[0m\u001b[0;34m(\u001b[0m\u001b[0mmovie\u001b[0m\u001b[0;34m)\u001b[0m\u001b[0;34m,\u001b[0m\u001b[0;34m\u001b[0m\u001b[0;34m\u001b[0m\u001b[0m\n\u001b[0m\u001b[1;32m     10\u001b[0m         \u001b[0;34m\"genre\"\u001b[0m\u001b[0;34m:\u001b[0m \u001b[0mget_genre\u001b[0m\u001b[0;34m(\u001b[0m\u001b[0mmovie\u001b[0m\u001b[0;34m)\u001b[0m\u001b[0;34m\u001b[0m\u001b[0;34m\u001b[0m\u001b[0m\n\u001b[1;32m     11\u001b[0m     })\n",
      "\u001b[0;32m<ipython-input-29-2d73092396a9>\u001b[0m in \u001b[0;36mget_gross\u001b[0;34m(movie)\u001b[0m\n\u001b[1;32m      4\u001b[0m     \u001b[0;32mfor\u001b[0m \u001b[0mm\u001b[0m \u001b[0;32min\u001b[0m \u001b[0mmovie\u001b[0m\u001b[0;34m:\u001b[0m\u001b[0;34m\u001b[0m\u001b[0;34m\u001b[0m\u001b[0m\n\u001b[1;32m      5\u001b[0m         \u001b[0mgross\u001b[0m \u001b[0;34m=\u001b[0m \u001b[0mm\u001b[0m\u001b[0;34m.\u001b[0m\u001b[0mfind\u001b[0m\u001b[0;34m(\u001b[0m\u001b[0mclass_\u001b[0m\u001b[0;34m=\u001b[0m\u001b[0;34m'sort-num_votes-visible'\u001b[0m\u001b[0;34m)\u001b[0m\u001b[0;34m\u001b[0m\u001b[0;34m\u001b[0m\u001b[0m\n\u001b[0;32m----> 6\u001b[0;31m         \u001b[0mparsed_gross\u001b[0m \u001b[0;34m=\u001b[0m \u001b[0mgross\u001b[0m\u001b[0;34m.\u001b[0m\u001b[0mget_text\u001b[0m\u001b[0;34m(\u001b[0m\u001b[0mstrip\u001b[0m\u001b[0;34m=\u001b[0m\u001b[0;32mTrue\u001b[0m\u001b[0;34m)\u001b[0m\u001b[0;34m\u001b[0m\u001b[0;34m\u001b[0m\u001b[0m\n\u001b[0m\u001b[1;32m      7\u001b[0m         \u001b[0mparsed_gross2\u001b[0m \u001b[0;34m=\u001b[0m \u001b[0mstr\u001b[0m\u001b[0;34m.\u001b[0m\u001b[0msplit\u001b[0m\u001b[0;34m(\u001b[0m\u001b[0mparsed_gross\u001b[0m\u001b[0;34m,\u001b[0m \u001b[0msep\u001b[0m\u001b[0;34m=\u001b[0m\u001b[0;34m'|'\u001b[0m\u001b[0;34m)\u001b[0m\u001b[0;34m\u001b[0m\u001b[0;34m\u001b[0m\u001b[0m\n\u001b[1;32m      8\u001b[0m        \u001b[0;31m# print(parsed_gross2[1])\u001b[0m\u001b[0;34m\u001b[0m\u001b[0;34m\u001b[0m\u001b[0;34m\u001b[0m\u001b[0m\n",
      "\u001b[0;31mAttributeError\u001b[0m: 'NoneType' object has no attribute 'get_text'"
     ]
    }
   ],
   "source": [
    "var = 251\n",
    "while var < 750: \n",
    "    page = requests.get(f\"https://www.imdb.com/search/title/?release_date=2019-01-01,2019-10-31&sort=boxoffice_gross_us,desc&start={var}&ref_=adv_nxt\")\n",
    "    soup = BS(page.content, 'html.parser')\n",
    "    soup.prettify()\n",
    "    info = soup.find_all(id = 'main')\n",
    "    movie = info[0].find_all(class_='lister-item mode-advanced')\n",
    "    movie_df = make_df(movie)\n",
    "    insert_movies(movie_df)\n",
    "    # #     print(movie_df)\n",
    "    var +=50\n"
   ]
  },
  {
   "cell_type": "code",
   "execution_count": null,
   "metadata": {},
   "outputs": [],
   "source": []
  },
  {
   "cell_type": "code",
   "execution_count": null,
   "metadata": {},
   "outputs": [],
   "source": []
  },
  {
   "cell_type": "code",
   "execution_count": null,
   "metadata": {},
   "outputs": [],
   "source": []
  }
 ],
 "metadata": {
  "kernelspec": {
   "display_name": "Python 3",
   "language": "python",
   "name": "python3"
  },
  "language_info": {
   "codemirror_mode": {
    "name": "ipython",
    "version": 3
   },
   "file_extension": ".py",
   "mimetype": "text/x-python",
   "name": "python",
   "nbconvert_exporter": "python",
   "pygments_lexer": "ipython3",
   "version": "3.7.3"
  }
 },
 "nbformat": 4,
 "nbformat_minor": 2
}
